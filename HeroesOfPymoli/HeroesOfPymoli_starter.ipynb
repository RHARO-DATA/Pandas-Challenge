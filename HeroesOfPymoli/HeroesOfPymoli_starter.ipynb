{
 "cells": [
  {
   "cell_type": "markdown",
   "metadata": {},
   "source": [
    "### Note\n",
    "* Instructions have been included for each segment. You do not have to follow them exactly, but they are included to help you think through the steps."
   ]
  },
  {
   "cell_type": "code",
   "execution_count": 2,
   "metadata": {},
   "outputs": [
    {
     "data": {
      "text/html": [
       "<div>\n",
       "<style scoped>\n",
       "    .dataframe tbody tr th:only-of-type {\n",
       "        vertical-align: middle;\n",
       "    }\n",
       "\n",
       "    .dataframe tbody tr th {\n",
       "        vertical-align: top;\n",
       "    }\n",
       "\n",
       "    .dataframe thead th {\n",
       "        text-align: right;\n",
       "    }\n",
       "</style>\n",
       "<table border=\"1\" class=\"dataframe\">\n",
       "  <thead>\n",
       "    <tr style=\"text-align: right;\">\n",
       "      <th></th>\n",
       "      <th>Purchase ID</th>\n",
       "      <th>SN</th>\n",
       "      <th>Age</th>\n",
       "      <th>Gender</th>\n",
       "      <th>Item ID</th>\n",
       "      <th>Item Name</th>\n",
       "      <th>Price</th>\n",
       "    </tr>\n",
       "  </thead>\n",
       "  <tbody>\n",
       "    <tr>\n",
       "      <th>0</th>\n",
       "      <td>0</td>\n",
       "      <td>Lisim78</td>\n",
       "      <td>20</td>\n",
       "      <td>Male</td>\n",
       "      <td>108</td>\n",
       "      <td>Extraction, Quickblade Of Trembling Hands</td>\n",
       "      <td>3.53</td>\n",
       "    </tr>\n",
       "    <tr>\n",
       "      <th>1</th>\n",
       "      <td>1</td>\n",
       "      <td>Lisovynya38</td>\n",
       "      <td>40</td>\n",
       "      <td>Male</td>\n",
       "      <td>143</td>\n",
       "      <td>Frenzied Scimitar</td>\n",
       "      <td>1.56</td>\n",
       "    </tr>\n",
       "    <tr>\n",
       "      <th>2</th>\n",
       "      <td>2</td>\n",
       "      <td>Ithergue48</td>\n",
       "      <td>24</td>\n",
       "      <td>Male</td>\n",
       "      <td>92</td>\n",
       "      <td>Final Critic</td>\n",
       "      <td>4.88</td>\n",
       "    </tr>\n",
       "    <tr>\n",
       "      <th>3</th>\n",
       "      <td>3</td>\n",
       "      <td>Chamassasya86</td>\n",
       "      <td>24</td>\n",
       "      <td>Male</td>\n",
       "      <td>100</td>\n",
       "      <td>Blindscythe</td>\n",
       "      <td>3.27</td>\n",
       "    </tr>\n",
       "    <tr>\n",
       "      <th>4</th>\n",
       "      <td>4</td>\n",
       "      <td>Iskosia90</td>\n",
       "      <td>23</td>\n",
       "      <td>Male</td>\n",
       "      <td>131</td>\n",
       "      <td>Fury</td>\n",
       "      <td>1.44</td>\n",
       "    </tr>\n",
       "  </tbody>\n",
       "</table>\n",
       "</div>"
      ],
      "text/plain": [
       "   Purchase ID             SN  Age Gender  Item ID  \\\n",
       "0            0        Lisim78   20   Male      108   \n",
       "1            1    Lisovynya38   40   Male      143   \n",
       "2            2     Ithergue48   24   Male       92   \n",
       "3            3  Chamassasya86   24   Male      100   \n",
       "4            4      Iskosia90   23   Male      131   \n",
       "\n",
       "                                   Item Name  Price  \n",
       "0  Extraction, Quickblade Of Trembling Hands   3.53  \n",
       "1                          Frenzied Scimitar   1.56  \n",
       "2                               Final Critic   4.88  \n",
       "3                                Blindscythe   3.27  \n",
       "4                                       Fury   1.44  "
      ]
     },
     "execution_count": 2,
     "metadata": {},
     "output_type": "execute_result"
    }
   ],
   "source": [
    "# Dependencies and Setup\n",
    "import pandas as pd\n",
    "\n",
    "# File to Load (Remember to Change These)\n",
    "file_to_load = \"Resources/purchase_data.csv\"\n",
    "\n",
    "# Read Purchasing File and store into Pandas data frame\n",
    "purchase_data_pd = pd.read_csv(file_to_load)\n",
    "purchase_data_df = pd.DataFrame(purchase_data_pd)\n",
    "\n",
    "purchase_data_pd.head()"
   ]
  },
  {
   "cell_type": "markdown",
   "metadata": {},
   "source": [
    "## Player Count"
   ]
  },
  {
   "cell_type": "markdown",
   "metadata": {},
   "source": [
    "* Display the total number of players\n"
   ]
  },
  {
   "cell_type": "code",
   "execution_count": 4,
   "metadata": {},
   "outputs": [
    {
     "data": {
      "text/plain": [
       "576"
      ]
     },
     "execution_count": 4,
     "metadata": {},
     "output_type": "execute_result"
    }
   ],
   "source": [
    "total_player = purchase_data_pd['SN'].nunique()\n",
    "total_player"
   ]
  },
  {
   "cell_type": "code",
   "execution_count": null,
   "metadata": {},
   "outputs": [],
   "source": []
  },
  {
   "cell_type": "markdown",
   "metadata": {},
   "source": [
    "## Purchasing Analysis (Total)"
   ]
  },
  {
   "cell_type": "markdown",
   "metadata": {},
   "source": [
    "* Run basic calculations to obtain number of unique items, average price, etc.\n",
    "\n",
    "\n",
    "* Create a summary data frame to hold the results\n",
    "\n",
    "\n",
    "* Optional: give the displayed data cleaner formatting\n",
    "\n",
    "\n",
    "* Display the summary data frame\n"
   ]
  },
  {
   "cell_type": "code",
   "execution_count": 6,
   "metadata": {},
   "outputs": [
    {
     "data": {
      "text/plain": [
       "183"
      ]
     },
     "execution_count": 6,
     "metadata": {},
     "output_type": "execute_result"
    }
   ],
   "source": [
    "unique_id = purchase_data_pd['Item ID'].nunique()\n",
    "unique_id"
   ]
  },
  {
   "cell_type": "code",
   "execution_count": 7,
   "metadata": {},
   "outputs": [
    {
     "data": {
      "text/plain": [
       "3.050987179487176"
      ]
     },
     "execution_count": 7,
     "metadata": {},
     "output_type": "execute_result"
    }
   ],
   "source": [
    "avr_price = purchase_data_pd['Price'].mean()\n",
    "avr_price"
   ]
  },
  {
   "cell_type": "code",
   "execution_count": 8,
   "metadata": {},
   "outputs": [
    {
     "data": {
      "text/plain": [
       "780"
      ]
     },
     "execution_count": 8,
     "metadata": {},
     "output_type": "execute_result"
    }
   ],
   "source": [
    "num_purchase = purchase_data_pd['Purchase ID'].count()\n",
    "num_purchase"
   ]
  },
  {
   "cell_type": "code",
   "execution_count": 9,
   "metadata": {},
   "outputs": [
    {
     "data": {
      "text/plain": [
       "2379.77"
      ]
     },
     "execution_count": 9,
     "metadata": {},
     "output_type": "execute_result"
    }
   ],
   "source": [
    "total_rev = purchase_data_pd['Price'].sum()\n",
    "total_rev"
   ]
  },
  {
   "cell_type": "code",
   "execution_count": 11,
   "metadata": {},
   "outputs": [
    {
     "data": {
      "text/html": [
       "<div>\n",
       "<style scoped>\n",
       "    .dataframe tbody tr th:only-of-type {\n",
       "        vertical-align: middle;\n",
       "    }\n",
       "\n",
       "    .dataframe tbody tr th {\n",
       "        vertical-align: top;\n",
       "    }\n",
       "\n",
       "    .dataframe thead th {\n",
       "        text-align: right;\n",
       "    }\n",
       "</style>\n",
       "<table border=\"1\" class=\"dataframe\">\n",
       "  <thead>\n",
       "    <tr style=\"text-align: right;\">\n",
       "      <th></th>\n",
       "      <th>Number of Unique Items</th>\n",
       "      <th>Average Price</th>\n",
       "      <th>Number of Purchases</th>\n",
       "      <th>Total Revenue</th>\n",
       "    </tr>\n",
       "  </thead>\n",
       "  <tbody>\n",
       "    <tr>\n",
       "      <th>0</th>\n",
       "      <td>183</td>\n",
       "      <td>3.050987</td>\n",
       "      <td>780</td>\n",
       "      <td>2379.77</td>\n",
       "    </tr>\n",
       "  </tbody>\n",
       "</table>\n",
       "</div>"
      ],
      "text/plain": [
       "   Number of Unique Items  Average Price  Number of Purchases  Total Revenue\n",
       "0                     183       3.050987                  780        2379.77"
      ]
     },
     "execution_count": 11,
     "metadata": {},
     "output_type": "execute_result"
    }
   ],
   "source": [
    "purchasing_analysis = pd.DataFrame({\n",
    "    'Number of Unique Items' : [unique_id],\n",
    "    'Average Price': [avr_price],\n",
    "    'Number of Purchases': [num_purchase],\n",
    "    'Total Revenue': [total_rev]\n",
    "})\n",
    "\n",
    "purchasing_analysis"
   ]
  },
  {
   "cell_type": "code",
   "execution_count": 3,
   "metadata": {
    "scrolled": true
   },
   "outputs": [
    {
     "data": {
      "text/html": [
       "<div>\n",
       "<style scoped>\n",
       "    .dataframe tbody tr th:only-of-type {\n",
       "        vertical-align: middle;\n",
       "    }\n",
       "\n",
       "    .dataframe tbody tr th {\n",
       "        vertical-align: top;\n",
       "    }\n",
       "\n",
       "    .dataframe thead th {\n",
       "        text-align: right;\n",
       "    }\n",
       "</style>\n",
       "<table border=\"1\" class=\"dataframe\">\n",
       "  <thead>\n",
       "    <tr style=\"text-align: right;\">\n",
       "      <th></th>\n",
       "      <th>Number of Unique Items</th>\n",
       "      <th>Average Price</th>\n",
       "      <th>Number of Purchases</th>\n",
       "      <th>Total Revenue</th>\n",
       "    </tr>\n",
       "  </thead>\n",
       "  <tbody>\n",
       "    <tr>\n",
       "      <th>0</th>\n",
       "      <td>183</td>\n",
       "      <td>$3.05</td>\n",
       "      <td>780</td>\n",
       "      <td>$2,379.77</td>\n",
       "    </tr>\n",
       "  </tbody>\n",
       "</table>\n",
       "</div>"
      ],
      "text/plain": [
       "   Number of Unique Items Average Price Number of Purchases Total Revenue\n",
       "0                     183         $3.05                 780     $2,379.77"
      ]
     },
     "execution_count": 3,
     "metadata": {},
     "output_type": "execute_result"
    }
   ],
   "source": []
  },
  {
   "cell_type": "code",
   "execution_count": null,
   "metadata": {},
   "outputs": [],
   "source": []
  },
  {
   "cell_type": "markdown",
   "metadata": {},
   "source": [
    "## Gender Demographics"
   ]
  },
  {
   "cell_type": "markdown",
   "metadata": {},
   "source": [
    "* Percentage and Count of Male Players\n",
    "\n",
    "\n",
    "* Percentage and Count of Female Players\n",
    "\n",
    "\n",
    "* Percentage and Count of Other / Non-Disclosed\n",
    "\n",
    "\n"
   ]
  },
  {
   "cell_type": "code",
   "execution_count": 12,
   "metadata": {},
   "outputs": [
    {
     "data": {
      "text/plain": [
       "Gender\n",
       "Female                    81\n",
       "Male                     484\n",
       "Other / Non-Disclosed     11\n",
       "Name: SN, dtype: int64"
      ]
     },
     "execution_count": 12,
     "metadata": {},
     "output_type": "execute_result"
    }
   ],
   "source": [
    "#Total count by gender\n",
    "gender = purchase_data_pd.groupby('Gender')\n",
    "total_gender = gender['SN'].nunique()\n",
    "total_gender"
   ]
  },
  {
   "cell_type": "code",
   "execution_count": 13,
   "metadata": {},
   "outputs": [
    {
     "data": {
      "text/plain": [
       "Gender\n",
       "Female                   14.062500\n",
       "Male                     84.027778\n",
       "Other / Non-Disclosed     1.909722\n",
       "Name: SN, dtype: float64"
      ]
     },
     "execution_count": 13,
     "metadata": {},
     "output_type": "execute_result"
    }
   ],
   "source": [
    "#Pecentage of players\n",
    "perc_players = (total_gender / total_player *100)\n",
    "perc_players"
   ]
  },
  {
   "cell_type": "code",
   "execution_count": 15,
   "metadata": {},
   "outputs": [
    {
     "data": {
      "text/html": [
       "<style  type=\"text/css\" >\n",
       "</style><table id=\"T_d2620976_16e6_11ea_baa4_aced5cf72258\" ><thead>    <tr>        <th class=\"blank level0\" ></th>        <th class=\"col_heading level0 col0\" >Total Count</th>        <th class=\"col_heading level0 col1\" >Percentage of Players</th>    </tr>    <tr>        <th class=\"index_name level0\" >Gender</th>        <th class=\"blank\" ></th>        <th class=\"blank\" ></th>    </tr></thead><tbody>\n",
       "                <tr>\n",
       "                        <th id=\"T_d2620976_16e6_11ea_baa4_aced5cf72258level0_row0\" class=\"row_heading level0 row0\" >Male</th>\n",
       "                        <td id=\"T_d2620976_16e6_11ea_baa4_aced5cf72258row0_col0\" class=\"data row0 col0\" >484</td>\n",
       "                        <td id=\"T_d2620976_16e6_11ea_baa4_aced5cf72258row0_col1\" class=\"data row0 col1\" >84.03%</td>\n",
       "            </tr>\n",
       "            <tr>\n",
       "                        <th id=\"T_d2620976_16e6_11ea_baa4_aced5cf72258level0_row1\" class=\"row_heading level0 row1\" >Female</th>\n",
       "                        <td id=\"T_d2620976_16e6_11ea_baa4_aced5cf72258row1_col0\" class=\"data row1 col0\" >81</td>\n",
       "                        <td id=\"T_d2620976_16e6_11ea_baa4_aced5cf72258row1_col1\" class=\"data row1 col1\" >14.06%</td>\n",
       "            </tr>\n",
       "            <tr>\n",
       "                        <th id=\"T_d2620976_16e6_11ea_baa4_aced5cf72258level0_row2\" class=\"row_heading level0 row2\" >Other / Non-Disclosed</th>\n",
       "                        <td id=\"T_d2620976_16e6_11ea_baa4_aced5cf72258row2_col0\" class=\"data row2 col0\" >11</td>\n",
       "                        <td id=\"T_d2620976_16e6_11ea_baa4_aced5cf72258row2_col1\" class=\"data row2 col1\" >1.91%</td>\n",
       "            </tr>\n",
       "    </tbody></table>"
      ],
      "text/plain": [
       "<pandas.io.formats.style.Styler at 0x1c054343f98>"
      ]
     },
     "execution_count": 15,
     "metadata": {},
     "output_type": "execute_result"
    }
   ],
   "source": [
    "# Data frame for gender demographics\n",
    "gender_demo = pd.DataFrame({\n",
    "    'Total Count': total_gender,\n",
    "    'Percentage of Players': perc_players\n",
    "})\n",
    "\n",
    "gender_demo.sort_values(['Total Count'], ascending = False).style.format({'Percentage of Players': \"{:.2f}%\"})"
   ]
  },
  {
   "cell_type": "code",
   "execution_count": 4,
   "metadata": {},
   "outputs": [
    {
     "data": {
      "text/html": [
       "<div>\n",
       "<style scoped>\n",
       "    .dataframe tbody tr th:only-of-type {\n",
       "        vertical-align: middle;\n",
       "    }\n",
       "\n",
       "    .dataframe tbody tr th {\n",
       "        vertical-align: top;\n",
       "    }\n",
       "\n",
       "    .dataframe thead th {\n",
       "        text-align: right;\n",
       "    }\n",
       "</style>\n",
       "<table border=\"1\" class=\"dataframe\">\n",
       "  <thead>\n",
       "    <tr style=\"text-align: right;\">\n",
       "      <th></th>\n",
       "      <th>Total Count</th>\n",
       "      <th>Percentage of Players</th>\n",
       "    </tr>\n",
       "  </thead>\n",
       "  <tbody>\n",
       "    <tr>\n",
       "      <th>Male</th>\n",
       "      <td>484</td>\n",
       "      <td>84.03%</td>\n",
       "    </tr>\n",
       "    <tr>\n",
       "      <th>Female</th>\n",
       "      <td>81</td>\n",
       "      <td>14.06%</td>\n",
       "    </tr>\n",
       "    <tr>\n",
       "      <th>Other / Non-Disclosed</th>\n",
       "      <td>11</td>\n",
       "      <td>1.91%</td>\n",
       "    </tr>\n",
       "  </tbody>\n",
       "</table>\n",
       "</div>"
      ],
      "text/plain": [
       "                       Total Count Percentage of Players\n",
       "Male                           484                84.03%\n",
       "Female                          81                14.06%\n",
       "Other / Non-Disclosed           11                 1.91%"
      ]
     },
     "execution_count": 4,
     "metadata": {},
     "output_type": "execute_result"
    }
   ],
   "source": []
  },
  {
   "cell_type": "markdown",
   "metadata": {},
   "source": [
    "\n",
    "## Purchasing Analysis (Gender)"
   ]
  },
  {
   "cell_type": "markdown",
   "metadata": {},
   "source": [
    "* Run basic calculations to obtain purchase count, avg. purchase price, avg. purchase total per person etc. by gender\n",
    "\n",
    "\n",
    "\n",
    "\n",
    "* Create a summary data frame to hold the results\n",
    "\n",
    "\n",
    "* Optional: give the displayed data cleaner formatting\n",
    "\n",
    "\n",
    "* Display the summary data frame"
   ]
  },
  {
   "cell_type": "code",
   "execution_count": 17,
   "metadata": {},
   "outputs": [
    {
     "data": {
      "text/plain": [
       "Gender\n",
       "Female                   113\n",
       "Male                     652\n",
       "Other / Non-Disclosed     15\n",
       "Name: Purchase ID, dtype: int64"
      ]
     },
     "execution_count": 17,
     "metadata": {},
     "output_type": "execute_result"
    }
   ],
   "source": [
    "# Purchase Count\n",
    "purchase_count = gender['Purchase ID'].count()\n",
    "purchase_count"
   ]
  },
  {
   "cell_type": "code",
   "execution_count": 18,
   "metadata": {},
   "outputs": [
    {
     "data": {
      "text/plain": [
       "Gender\n",
       "Female                   3.203009\n",
       "Male                     3.017853\n",
       "Other / Non-Disclosed    3.346000\n",
       "Name: Price, dtype: float64"
      ]
     },
     "execution_count": 18,
     "metadata": {},
     "output_type": "execute_result"
    }
   ],
   "source": [
    "# Average purchase price\n",
    "avr_purchase_price = gender['Price'].mean()\n",
    "avr_purchase_price"
   ]
  },
  {
   "cell_type": "code",
   "execution_count": 19,
   "metadata": {},
   "outputs": [
    {
     "data": {
      "text/plain": [
       "Gender\n",
       "Female                    361.94\n",
       "Male                     1967.64\n",
       "Other / Non-Disclosed      50.19\n",
       "Name: Price, dtype: float64"
      ]
     },
     "execution_count": 19,
     "metadata": {},
     "output_type": "execute_result"
    }
   ],
   "source": [
    "# Total purchase\n",
    "total_purchase = gender['Price'].sum()\n",
    "total_purchase\n"
   ]
  },
  {
   "cell_type": "code",
   "execution_count": 20,
   "metadata": {},
   "outputs": [
    {
     "data": {
      "text/plain": [
       "Gender\n",
       "Female                   4.468395\n",
       "Male                     4.065372\n",
       "Other / Non-Disclosed    4.562727\n",
       "dtype: float64"
      ]
     },
     "execution_count": 20,
     "metadata": {},
     "output_type": "execute_result"
    }
   ],
   "source": [
    "# Average Total per Person\n",
    "avg_total_person = total_purchase / total_gender\n",
    "avg_total_person"
   ]
  },
  {
   "cell_type": "code",
   "execution_count": 34,
   "metadata": {},
   "outputs": [
    {
     "data": {
      "text/html": [
       "<style  type=\"text/css\" >\n",
       "</style><table id=\"T_769bb1a4_16eb_11ea_81b7_aced5cf72258\" ><thead>    <tr>        <th class=\"blank level0\" ></th>        <th class=\"col_heading level0 col0\" >Purchase Count</th>        <th class=\"col_heading level0 col1\" >Average Purchase Price</th>        <th class=\"col_heading level0 col2\" >Total Purchase Value</th>        <th class=\"col_heading level0 col3\" >Avg Total Purchase per Person</th>    </tr>    <tr>        <th class=\"index_name level0\" >Gender</th>        <th class=\"blank\" ></th>        <th class=\"blank\" ></th>        <th class=\"blank\" ></th>        <th class=\"blank\" ></th>    </tr></thead><tbody>\n",
       "                <tr>\n",
       "                        <th id=\"T_769bb1a4_16eb_11ea_81b7_aced5cf72258level0_row0\" class=\"row_heading level0 row0\" >Female</th>\n",
       "                        <td id=\"T_769bb1a4_16eb_11ea_81b7_aced5cf72258row0_col0\" class=\"data row0 col0\" >113</td>\n",
       "                        <td id=\"T_769bb1a4_16eb_11ea_81b7_aced5cf72258row0_col1\" class=\"data row0 col1\" >$3.20</td>\n",
       "                        <td id=\"T_769bb1a4_16eb_11ea_81b7_aced5cf72258row0_col2\" class=\"data row0 col2\" >$361.94</td>\n",
       "                        <td id=\"T_769bb1a4_16eb_11ea_81b7_aced5cf72258row0_col3\" class=\"data row0 col3\" >$4.47</td>\n",
       "            </tr>\n",
       "            <tr>\n",
       "                        <th id=\"T_769bb1a4_16eb_11ea_81b7_aced5cf72258level0_row1\" class=\"row_heading level0 row1\" >Male</th>\n",
       "                        <td id=\"T_769bb1a4_16eb_11ea_81b7_aced5cf72258row1_col0\" class=\"data row1 col0\" >652</td>\n",
       "                        <td id=\"T_769bb1a4_16eb_11ea_81b7_aced5cf72258row1_col1\" class=\"data row1 col1\" >$3.02</td>\n",
       "                        <td id=\"T_769bb1a4_16eb_11ea_81b7_aced5cf72258row1_col2\" class=\"data row1 col2\" >$1,967.64</td>\n",
       "                        <td id=\"T_769bb1a4_16eb_11ea_81b7_aced5cf72258row1_col3\" class=\"data row1 col3\" >$4.07</td>\n",
       "            </tr>\n",
       "            <tr>\n",
       "                        <th id=\"T_769bb1a4_16eb_11ea_81b7_aced5cf72258level0_row2\" class=\"row_heading level0 row2\" >Other / Non-Disclosed</th>\n",
       "                        <td id=\"T_769bb1a4_16eb_11ea_81b7_aced5cf72258row2_col0\" class=\"data row2 col0\" >15</td>\n",
       "                        <td id=\"T_769bb1a4_16eb_11ea_81b7_aced5cf72258row2_col1\" class=\"data row2 col1\" >$3.35</td>\n",
       "                        <td id=\"T_769bb1a4_16eb_11ea_81b7_aced5cf72258row2_col2\" class=\"data row2 col2\" >$50.19</td>\n",
       "                        <td id=\"T_769bb1a4_16eb_11ea_81b7_aced5cf72258row2_col3\" class=\"data row2 col3\" >$4.56</td>\n",
       "            </tr>\n",
       "    </tbody></table>"
      ],
      "text/plain": [
       "<pandas.io.formats.style.Styler at 0x1c0543d7278>"
      ]
     },
     "execution_count": 34,
     "metadata": {},
     "output_type": "execute_result"
    }
   ],
   "source": [
    "# Data Frame Purchasing Analysis by Gender\n",
    "\n",
    "purchasing_gender = pd.DataFrame({\n",
    "    'Purchase Count': purchase_count,\n",
    "    'Average Purchase Price' : avr_purchase_price,\n",
    "    'Total Purchase Value': total_purchase,\n",
    "    'Avg Total Purchase per Person': avg_total_person\n",
    "    \n",
    "})\n",
    "\n",
    "purchasing_gender.style.format({'Average Purchase Price':\"${:,.2f}\",\n",
    "                                'Total Purchase Value':\"${:,.2f}\",\n",
    "                                'Avg Total Purchase per Person':\"${:,.2f}\"})\n",
    "\n"
   ]
  },
  {
   "cell_type": "code",
   "execution_count": null,
   "metadata": {},
   "outputs": [],
   "source": []
  },
  {
   "cell_type": "markdown",
   "metadata": {},
   "source": [
    "## Age Demographics"
   ]
  },
  {
   "cell_type": "markdown",
   "metadata": {},
   "source": [
    "* Establish bins for ages\n",
    "\n",
    "\n",
    "* Categorize the existing players using the age bins. Hint: use pd.cut()\n",
    "\n",
    "\n",
    "* Calculate the numbers and percentages by age group\n",
    "\n",
    "\n",
    "* Create a summary data frame to hold the results\n",
    "\n",
    "\n",
    "* Optional: round the percentage column to two decimal points\n",
    "\n",
    "\n",
    "* Display Age Demographics Table\n"
   ]
  },
  {
   "cell_type": "code",
   "execution_count": 37,
   "metadata": {},
   "outputs": [
    {
     "data": {
      "text/plain": [
       "45"
      ]
     },
     "execution_count": 37,
     "metadata": {},
     "output_type": "execute_result"
    }
   ],
   "source": [
    "# identify the range of ages\n",
    "purchase_data_df['Age'].max() #min() ---(7, 45)"
   ]
  },
  {
   "cell_type": "code",
   "execution_count": 41,
   "metadata": {},
   "outputs": [
    {
     "data": {
      "text/plain": [
       "Age Group\n",
       "<10        17\n",
       "10-14      22\n",
       "15-19     107\n",
       "20-24     258\n",
       "25-29      77\n",
       "30-34      52\n",
       "35-39      31\n",
       "40-100     12\n",
       "Name: SN, dtype: int64"
      ]
     },
     "execution_count": 41,
     "metadata": {},
     "output_type": "execute_result"
    }
   ],
   "source": [
    "# Establish bins\n",
    "bins =[0, 9.99, 14.99, 19.99, 24.99, 29.99, 34.99, 39.99, 100,]\n",
    "\n",
    "# Names for the bins\n",
    "name_age = [\"<10\", \"10-14\", \"15-19\", \"20-24\", \"25-29\", \"30-34\", \"35-39\", \"40-100\"]\n",
    "\n",
    "purchase_data_df['Age Group'] = pd.cut(purchase_data_df['Age'], bins, labels = name_age)\n",
    "\n",
    "purchase_age_group = purchase_data_df.groupby('Age Group')\n",
    "\n",
    "total_count_age = purchase_age_group['SN'].nunique()\n",
    "\n",
    "total_count_age"
   ]
  },
  {
   "cell_type": "code",
   "execution_count": 46,
   "metadata": {},
   "outputs": [
    {
     "data": {
      "text/html": [
       "<style  type=\"text/css\" >\n",
       "</style><table id=\"T_d4eba20c_16ee_11ea_b587_aced5cf72258\" ><thead>    <tr>        <th class=\"blank level0\" ></th>        <th class=\"col_heading level0 col0\" >Total Count</th>        <th class=\"col_heading level0 col1\" >Percentage of Players</th>    </tr></thead><tbody>\n",
       "                <tr>\n",
       "                        <th id=\"T_d4eba20c_16ee_11ea_b587_aced5cf72258level0_row0\" class=\"row_heading level0 row0\" ><10</th>\n",
       "                        <td id=\"T_d4eba20c_16ee_11ea_b587_aced5cf72258row0_col0\" class=\"data row0 col0\" >17</td>\n",
       "                        <td id=\"T_d4eba20c_16ee_11ea_b587_aced5cf72258row0_col1\" class=\"data row0 col1\" >$2.95</td>\n",
       "            </tr>\n",
       "            <tr>\n",
       "                        <th id=\"T_d4eba20c_16ee_11ea_b587_aced5cf72258level0_row1\" class=\"row_heading level0 row1\" >10-14</th>\n",
       "                        <td id=\"T_d4eba20c_16ee_11ea_b587_aced5cf72258row1_col0\" class=\"data row1 col0\" >22</td>\n",
       "                        <td id=\"T_d4eba20c_16ee_11ea_b587_aced5cf72258row1_col1\" class=\"data row1 col1\" >$3.82</td>\n",
       "            </tr>\n",
       "            <tr>\n",
       "                        <th id=\"T_d4eba20c_16ee_11ea_b587_aced5cf72258level0_row2\" class=\"row_heading level0 row2\" >15-19</th>\n",
       "                        <td id=\"T_d4eba20c_16ee_11ea_b587_aced5cf72258row2_col0\" class=\"data row2 col0\" >107</td>\n",
       "                        <td id=\"T_d4eba20c_16ee_11ea_b587_aced5cf72258row2_col1\" class=\"data row2 col1\" >$18.58</td>\n",
       "            </tr>\n",
       "            <tr>\n",
       "                        <th id=\"T_d4eba20c_16ee_11ea_b587_aced5cf72258level0_row3\" class=\"row_heading level0 row3\" >20-24</th>\n",
       "                        <td id=\"T_d4eba20c_16ee_11ea_b587_aced5cf72258row3_col0\" class=\"data row3 col0\" >258</td>\n",
       "                        <td id=\"T_d4eba20c_16ee_11ea_b587_aced5cf72258row3_col1\" class=\"data row3 col1\" >$44.79</td>\n",
       "            </tr>\n",
       "            <tr>\n",
       "                        <th id=\"T_d4eba20c_16ee_11ea_b587_aced5cf72258level0_row4\" class=\"row_heading level0 row4\" >25-29</th>\n",
       "                        <td id=\"T_d4eba20c_16ee_11ea_b587_aced5cf72258row4_col0\" class=\"data row4 col0\" >77</td>\n",
       "                        <td id=\"T_d4eba20c_16ee_11ea_b587_aced5cf72258row4_col1\" class=\"data row4 col1\" >$13.37</td>\n",
       "            </tr>\n",
       "            <tr>\n",
       "                        <th id=\"T_d4eba20c_16ee_11ea_b587_aced5cf72258level0_row5\" class=\"row_heading level0 row5\" >30-34</th>\n",
       "                        <td id=\"T_d4eba20c_16ee_11ea_b587_aced5cf72258row5_col0\" class=\"data row5 col0\" >52</td>\n",
       "                        <td id=\"T_d4eba20c_16ee_11ea_b587_aced5cf72258row5_col1\" class=\"data row5 col1\" >$9.03</td>\n",
       "            </tr>\n",
       "            <tr>\n",
       "                        <th id=\"T_d4eba20c_16ee_11ea_b587_aced5cf72258level0_row6\" class=\"row_heading level0 row6\" >35-39</th>\n",
       "                        <td id=\"T_d4eba20c_16ee_11ea_b587_aced5cf72258row6_col0\" class=\"data row6 col0\" >31</td>\n",
       "                        <td id=\"T_d4eba20c_16ee_11ea_b587_aced5cf72258row6_col1\" class=\"data row6 col1\" >$5.38</td>\n",
       "            </tr>\n",
       "            <tr>\n",
       "                        <th id=\"T_d4eba20c_16ee_11ea_b587_aced5cf72258level0_row7\" class=\"row_heading level0 row7\" >40-100</th>\n",
       "                        <td id=\"T_d4eba20c_16ee_11ea_b587_aced5cf72258row7_col0\" class=\"data row7 col0\" >12</td>\n",
       "                        <td id=\"T_d4eba20c_16ee_11ea_b587_aced5cf72258row7_col1\" class=\"data row7 col1\" >$2.08</td>\n",
       "            </tr>\n",
       "    </tbody></table>"
      ],
      "text/plain": [
       "<pandas.io.formats.style.Styler at 0x1c0544a0f60>"
      ]
     },
     "execution_count": 46,
     "metadata": {},
     "output_type": "execute_result"
    }
   ],
   "source": [
    "# Data Frame for Age Demographics\n",
    "total_age = (total_count_age / total_player) *100\n",
    "age_demo = pd.DataFrame({\n",
    "    'Total Count' : total_count_age,\n",
    "    'Percentage of Players': total_age    \n",
    "})\n",
    "# format\n",
    "age_demo.index.name = None\n",
    "age_demo.style.format({'Percentage of Players': \"${:,.2f}\" })"
   ]
  },
  {
   "cell_type": "code",
   "execution_count": null,
   "metadata": {},
   "outputs": [],
   "source": []
  },
  {
   "cell_type": "code",
   "execution_count": 6,
   "metadata": {},
   "outputs": [
    {
     "data": {
      "text/html": [
       "<div>\n",
       "<style scoped>\n",
       "    .dataframe tbody tr th:only-of-type {\n",
       "        vertical-align: middle;\n",
       "    }\n",
       "\n",
       "    .dataframe tbody tr th {\n",
       "        vertical-align: top;\n",
       "    }\n",
       "\n",
       "    .dataframe thead th {\n",
       "        text-align: right;\n",
       "    }\n",
       "</style>\n",
       "<table border=\"1\" class=\"dataframe\">\n",
       "  <thead>\n",
       "    <tr style=\"text-align: right;\">\n",
       "      <th></th>\n",
       "      <th>Total Count</th>\n",
       "      <th>Percentage of Players</th>\n",
       "    </tr>\n",
       "  </thead>\n",
       "  <tbody>\n",
       "    <tr>\n",
       "      <th>&lt;10</th>\n",
       "      <td>17</td>\n",
       "      <td>2.95%</td>\n",
       "    </tr>\n",
       "    <tr>\n",
       "      <th>10-14</th>\n",
       "      <td>22</td>\n",
       "      <td>3.82%</td>\n",
       "    </tr>\n",
       "    <tr>\n",
       "      <th>15-19</th>\n",
       "      <td>107</td>\n",
       "      <td>18.58%</td>\n",
       "    </tr>\n",
       "    <tr>\n",
       "      <th>20-24</th>\n",
       "      <td>258</td>\n",
       "      <td>44.79%</td>\n",
       "    </tr>\n",
       "    <tr>\n",
       "      <th>25-29</th>\n",
       "      <td>77</td>\n",
       "      <td>13.37%</td>\n",
       "    </tr>\n",
       "    <tr>\n",
       "      <th>30-34</th>\n",
       "      <td>52</td>\n",
       "      <td>9.03%</td>\n",
       "    </tr>\n",
       "    <tr>\n",
       "      <th>35-39</th>\n",
       "      <td>31</td>\n",
       "      <td>5.38%</td>\n",
       "    </tr>\n",
       "    <tr>\n",
       "      <th>40+</th>\n",
       "      <td>12</td>\n",
       "      <td>2.08%</td>\n",
       "    </tr>\n",
       "  </tbody>\n",
       "</table>\n",
       "</div>"
      ],
      "text/plain": [
       "       Total Count Percentage of Players\n",
       "<10             17                 2.95%\n",
       "10-14           22                 3.82%\n",
       "15-19          107                18.58%\n",
       "20-24          258                44.79%\n",
       "25-29           77                13.37%\n",
       "30-34           52                 9.03%\n",
       "35-39           31                 5.38%\n",
       "40+             12                 2.08%"
      ]
     },
     "execution_count": 6,
     "metadata": {},
     "output_type": "execute_result"
    }
   ],
   "source": []
  },
  {
   "cell_type": "markdown",
   "metadata": {},
   "source": [
    "## Purchasing Analysis (Age)"
   ]
  },
  {
   "cell_type": "markdown",
   "metadata": {},
   "source": [
    "* Bin the purchase_data data frame by age\n",
    "\n",
    "\n",
    "* Run basic calculations to obtain purchase count, avg. purchase price, avg. purchase total per person etc. in the table below\n",
    "\n",
    "\n",
    "* Create a summary data frame to hold the results\n",
    "\n",
    "\n",
    "* Optional: give the displayed data cleaner formatting\n",
    "\n",
    "\n",
    "* Display the summary data frame"
   ]
  },
  {
   "cell_type": "code",
   "execution_count": 49,
   "metadata": {},
   "outputs": [
    {
     "data": {
      "text/plain": [
       "<10        23\n",
       "10-14      28\n",
       "15-19     136\n",
       "20-24     365\n",
       "25-29     101\n",
       "30-34      73\n",
       "35-39      41\n",
       "40-100     13\n",
       "Name: Purchase ID, dtype: int64"
      ]
     },
     "execution_count": 49,
     "metadata": {},
     "output_type": "execute_result"
    }
   ],
   "source": [
    "#Purchase Count\n",
    "purchasing_age_count = purchase_age_group['Purchase ID'].count()\n",
    "purchasing_age_count"
   ]
  },
  {
   "cell_type": "code",
   "execution_count": 51,
   "metadata": {},
   "outputs": [
    {
     "data": {
      "text/plain": [
       "<10       3.353478\n",
       "10-14     2.956429\n",
       "15-19     3.035956\n",
       "20-24     3.052219\n",
       "25-29     2.900990\n",
       "30-34     2.931507\n",
       "35-39     3.601707\n",
       "40-100    2.941538\n",
       "Name: Price, dtype: float64"
      ]
     },
     "execution_count": 51,
     "metadata": {},
     "output_type": "execute_result"
    }
   ],
   "source": [
    "# Average Purchase Pricing\n",
    "avg_pur_pri = purchase_age_group['Price'].mean()\n",
    "avg_pur_pri"
   ]
  },
  {
   "cell_type": "code",
   "execution_count": 53,
   "metadata": {},
   "outputs": [
    {
     "data": {
      "text/plain": [
       "<10         77.13\n",
       "10-14       82.78\n",
       "15-19      412.89\n",
       "20-24     1114.06\n",
       "25-29      293.00\n",
       "30-34      214.00\n",
       "35-39      147.67\n",
       "40-100      38.24\n",
       "Name: Price, dtype: float64"
      ]
     },
     "execution_count": 53,
     "metadata": {},
     "output_type": "execute_result"
    }
   ],
   "source": [
    "# Total Purchase Value\n",
    "total_pur_value = purchase_age_group['Price'].sum()\n",
    "total_pur_value\n"
   ]
  },
  {
   "cell_type": "code",
   "execution_count": 77,
   "metadata": {},
   "outputs": [
    {
     "data": {
      "text/plain": [
       "Age Ranges\n",
       "<10       4.537059\n",
       "10-14     3.762727\n",
       "15-19     3.858785\n",
       "20-24     4.318062\n",
       "25-29     3.805195\n",
       "30-34     4.115385\n",
       "35-39     4.763548\n",
       "40-100    3.186667\n",
       "dtype: float64"
      ]
     },
     "execution_count": 77,
     "metadata": {},
     "output_type": "execute_result"
    }
   ],
   "source": [
    "# Average Total Purchase per Person\n",
    "avg_tot_person = total_pur_value / total_count_age \n",
    "avg_tot_person"
   ]
  },
  {
   "cell_type": "code",
   "execution_count": 75,
   "metadata": {},
   "outputs": [
    {
     "data": {
      "text/html": [
       "<style  type=\"text/css\" >\n",
       "</style><table id=\"T_3a4a59e2_16f5_11ea_ba2e_aced5cf72258\" ><thead>    <tr>        <th class=\"blank level0\" ></th>        <th class=\"col_heading level0 col0\" >Purchase count</th>        <th class=\"col_heading level0 col1\" >Average Purchase Price</th>        <th class=\"col_heading level0 col2\" >Total Purchase Value</th>        <th class=\"col_heading level0 col3\" >Avg Total Purchase per Person</th>    </tr>    <tr>        <th class=\"index_name level0\" >Age Ranges</th>        <th class=\"blank\" ></th>        <th class=\"blank\" ></th>        <th class=\"blank\" ></th>        <th class=\"blank\" ></th>    </tr></thead><tbody>\n",
       "                <tr>\n",
       "                        <th id=\"T_3a4a59e2_16f5_11ea_ba2e_aced5cf72258level0_row0\" class=\"row_heading level0 row0\" ><10</th>\n",
       "                        <td id=\"T_3a4a59e2_16f5_11ea_ba2e_aced5cf72258row0_col0\" class=\"data row0 col0\" >23</td>\n",
       "                        <td id=\"T_3a4a59e2_16f5_11ea_ba2e_aced5cf72258row0_col1\" class=\"data row0 col1\" >$3.35</td>\n",
       "                        <td id=\"T_3a4a59e2_16f5_11ea_ba2e_aced5cf72258row0_col2\" class=\"data row0 col2\" >$77.13</td>\n",
       "                        <td id=\"T_3a4a59e2_16f5_11ea_ba2e_aced5cf72258row0_col3\" class=\"data row0 col3\" >$4.54</td>\n",
       "            </tr>\n",
       "            <tr>\n",
       "                        <th id=\"T_3a4a59e2_16f5_11ea_ba2e_aced5cf72258level0_row1\" class=\"row_heading level0 row1\" >10-14</th>\n",
       "                        <td id=\"T_3a4a59e2_16f5_11ea_ba2e_aced5cf72258row1_col0\" class=\"data row1 col0\" >28</td>\n",
       "                        <td id=\"T_3a4a59e2_16f5_11ea_ba2e_aced5cf72258row1_col1\" class=\"data row1 col1\" >$2.96</td>\n",
       "                        <td id=\"T_3a4a59e2_16f5_11ea_ba2e_aced5cf72258row1_col2\" class=\"data row1 col2\" >$82.78</td>\n",
       "                        <td id=\"T_3a4a59e2_16f5_11ea_ba2e_aced5cf72258row1_col3\" class=\"data row1 col3\" >$3.76</td>\n",
       "            </tr>\n",
       "            <tr>\n",
       "                        <th id=\"T_3a4a59e2_16f5_11ea_ba2e_aced5cf72258level0_row2\" class=\"row_heading level0 row2\" >15-19</th>\n",
       "                        <td id=\"T_3a4a59e2_16f5_11ea_ba2e_aced5cf72258row2_col0\" class=\"data row2 col0\" >136</td>\n",
       "                        <td id=\"T_3a4a59e2_16f5_11ea_ba2e_aced5cf72258row2_col1\" class=\"data row2 col1\" >$3.04</td>\n",
       "                        <td id=\"T_3a4a59e2_16f5_11ea_ba2e_aced5cf72258row2_col2\" class=\"data row2 col2\" >$412.89</td>\n",
       "                        <td id=\"T_3a4a59e2_16f5_11ea_ba2e_aced5cf72258row2_col3\" class=\"data row2 col3\" >$3.86</td>\n",
       "            </tr>\n",
       "            <tr>\n",
       "                        <th id=\"T_3a4a59e2_16f5_11ea_ba2e_aced5cf72258level0_row3\" class=\"row_heading level0 row3\" >20-24</th>\n",
       "                        <td id=\"T_3a4a59e2_16f5_11ea_ba2e_aced5cf72258row3_col0\" class=\"data row3 col0\" >365</td>\n",
       "                        <td id=\"T_3a4a59e2_16f5_11ea_ba2e_aced5cf72258row3_col1\" class=\"data row3 col1\" >$3.05</td>\n",
       "                        <td id=\"T_3a4a59e2_16f5_11ea_ba2e_aced5cf72258row3_col2\" class=\"data row3 col2\" >$1,114.06</td>\n",
       "                        <td id=\"T_3a4a59e2_16f5_11ea_ba2e_aced5cf72258row3_col3\" class=\"data row3 col3\" >$4.32</td>\n",
       "            </tr>\n",
       "            <tr>\n",
       "                        <th id=\"T_3a4a59e2_16f5_11ea_ba2e_aced5cf72258level0_row4\" class=\"row_heading level0 row4\" >25-29</th>\n",
       "                        <td id=\"T_3a4a59e2_16f5_11ea_ba2e_aced5cf72258row4_col0\" class=\"data row4 col0\" >101</td>\n",
       "                        <td id=\"T_3a4a59e2_16f5_11ea_ba2e_aced5cf72258row4_col1\" class=\"data row4 col1\" >$2.90</td>\n",
       "                        <td id=\"T_3a4a59e2_16f5_11ea_ba2e_aced5cf72258row4_col2\" class=\"data row4 col2\" >$293.00</td>\n",
       "                        <td id=\"T_3a4a59e2_16f5_11ea_ba2e_aced5cf72258row4_col3\" class=\"data row4 col3\" >$3.81</td>\n",
       "            </tr>\n",
       "            <tr>\n",
       "                        <th id=\"T_3a4a59e2_16f5_11ea_ba2e_aced5cf72258level0_row5\" class=\"row_heading level0 row5\" >30-34</th>\n",
       "                        <td id=\"T_3a4a59e2_16f5_11ea_ba2e_aced5cf72258row5_col0\" class=\"data row5 col0\" >73</td>\n",
       "                        <td id=\"T_3a4a59e2_16f5_11ea_ba2e_aced5cf72258row5_col1\" class=\"data row5 col1\" >$2.93</td>\n",
       "                        <td id=\"T_3a4a59e2_16f5_11ea_ba2e_aced5cf72258row5_col2\" class=\"data row5 col2\" >$214.00</td>\n",
       "                        <td id=\"T_3a4a59e2_16f5_11ea_ba2e_aced5cf72258row5_col3\" class=\"data row5 col3\" >$4.12</td>\n",
       "            </tr>\n",
       "            <tr>\n",
       "                        <th id=\"T_3a4a59e2_16f5_11ea_ba2e_aced5cf72258level0_row6\" class=\"row_heading level0 row6\" >35-39</th>\n",
       "                        <td id=\"T_3a4a59e2_16f5_11ea_ba2e_aced5cf72258row6_col0\" class=\"data row6 col0\" >41</td>\n",
       "                        <td id=\"T_3a4a59e2_16f5_11ea_ba2e_aced5cf72258row6_col1\" class=\"data row6 col1\" >$3.60</td>\n",
       "                        <td id=\"T_3a4a59e2_16f5_11ea_ba2e_aced5cf72258row6_col2\" class=\"data row6 col2\" >$147.67</td>\n",
       "                        <td id=\"T_3a4a59e2_16f5_11ea_ba2e_aced5cf72258row6_col3\" class=\"data row6 col3\" >$4.76</td>\n",
       "            </tr>\n",
       "            <tr>\n",
       "                        <th id=\"T_3a4a59e2_16f5_11ea_ba2e_aced5cf72258level0_row7\" class=\"row_heading level0 row7\" >40-100</th>\n",
       "                        <td id=\"T_3a4a59e2_16f5_11ea_ba2e_aced5cf72258row7_col0\" class=\"data row7 col0\" >13</td>\n",
       "                        <td id=\"T_3a4a59e2_16f5_11ea_ba2e_aced5cf72258row7_col1\" class=\"data row7 col1\" >$2.94</td>\n",
       "                        <td id=\"T_3a4a59e2_16f5_11ea_ba2e_aced5cf72258row7_col2\" class=\"data row7 col2\" >$38.24</td>\n",
       "                        <td id=\"T_3a4a59e2_16f5_11ea_ba2e_aced5cf72258row7_col3\" class=\"data row7 col3\" >$3.19</td>\n",
       "            </tr>\n",
       "    </tbody></table>"
      ],
      "text/plain": [
       "<pandas.io.formats.style.Styler at 0x1c0543ae588>"
      ]
     },
     "execution_count": 75,
     "metadata": {},
     "output_type": "execute_result"
    }
   ],
   "source": [
    "# Data Frame Purchasing analysis by Age\n",
    "purchasing_analysis_age = pd.DataFrame({\n",
    "    'Purchase count': purchasing_age_count,\n",
    "    'Average Purchase Price': avg_pur_pri,\n",
    "    'Total Purchase Value': total_pur_value,\n",
    "    'Avg Total Purchase per Person': avg_tot_person\n",
    "})\n",
    "\n",
    "purchasing_analysis_age.index.name = 'Age Ranges'\n",
    "\n",
    "#format\n",
    "purchasing_analysis_age.style.format({'Average Purchase Price':\"${:,.2f}\",\n",
    "                                      'Total Purchase Value':\"${:,.2f}\",\n",
    "                                      'Avg Total Purchase per Person':\"${:,.2f}\"})\n",
    "                                      \n"
   ]
  },
  {
   "cell_type": "code",
   "execution_count": 7,
   "metadata": {},
   "outputs": [
    {
     "data": {
      "text/html": [
       "<div>\n",
       "<style scoped>\n",
       "    .dataframe tbody tr th:only-of-type {\n",
       "        vertical-align: middle;\n",
       "    }\n",
       "\n",
       "    .dataframe tbody tr th {\n",
       "        vertical-align: top;\n",
       "    }\n",
       "\n",
       "    .dataframe thead th {\n",
       "        text-align: right;\n",
       "    }\n",
       "</style>\n",
       "<table border=\"1\" class=\"dataframe\">\n",
       "  <thead>\n",
       "    <tr style=\"text-align: right;\">\n",
       "      <th></th>\n",
       "      <th>Purchase Count</th>\n",
       "      <th>Average Purchase Price</th>\n",
       "      <th>Total Purchase Value</th>\n",
       "      <th>Avg Total Purchase per Person</th>\n",
       "    </tr>\n",
       "    <tr>\n",
       "      <th>Age Ranges</th>\n",
       "      <th></th>\n",
       "      <th></th>\n",
       "      <th></th>\n",
       "      <th></th>\n",
       "    </tr>\n",
       "  </thead>\n",
       "  <tbody>\n",
       "    <tr>\n",
       "      <th>&lt;10</th>\n",
       "      <td>23</td>\n",
       "      <td>$3.35</td>\n",
       "      <td>$77.13</td>\n",
       "      <td>$4.54</td>\n",
       "    </tr>\n",
       "    <tr>\n",
       "      <th>10-14</th>\n",
       "      <td>28</td>\n",
       "      <td>$2.96</td>\n",
       "      <td>$82.78</td>\n",
       "      <td>$3.76</td>\n",
       "    </tr>\n",
       "    <tr>\n",
       "      <th>15-19</th>\n",
       "      <td>136</td>\n",
       "      <td>$3.04</td>\n",
       "      <td>$412.89</td>\n",
       "      <td>$3.86</td>\n",
       "    </tr>\n",
       "    <tr>\n",
       "      <th>20-24</th>\n",
       "      <td>365</td>\n",
       "      <td>$3.05</td>\n",
       "      <td>$1,114.06</td>\n",
       "      <td>$4.32</td>\n",
       "    </tr>\n",
       "    <tr>\n",
       "      <th>25-29</th>\n",
       "      <td>101</td>\n",
       "      <td>$2.90</td>\n",
       "      <td>$293.00</td>\n",
       "      <td>$3.81</td>\n",
       "    </tr>\n",
       "    <tr>\n",
       "      <th>30-34</th>\n",
       "      <td>73</td>\n",
       "      <td>$2.93</td>\n",
       "      <td>$214.00</td>\n",
       "      <td>$4.12</td>\n",
       "    </tr>\n",
       "    <tr>\n",
       "      <th>35-39</th>\n",
       "      <td>41</td>\n",
       "      <td>$3.60</td>\n",
       "      <td>$147.67</td>\n",
       "      <td>$4.76</td>\n",
       "    </tr>\n",
       "    <tr>\n",
       "      <th>40+</th>\n",
       "      <td>13</td>\n",
       "      <td>$2.94</td>\n",
       "      <td>$38.24</td>\n",
       "      <td>$3.19</td>\n",
       "    </tr>\n",
       "  </tbody>\n",
       "</table>\n",
       "</div>"
      ],
      "text/plain": [
       "           Purchase Count Average Purchase Price Total Purchase Value  \\\n",
       "Age Ranges                                                              \n",
       "<10                    23                  $3.35               $77.13   \n",
       "10-14                  28                  $2.96               $82.78   \n",
       "15-19                 136                  $3.04              $412.89   \n",
       "20-24                 365                  $3.05            $1,114.06   \n",
       "25-29                 101                  $2.90              $293.00   \n",
       "30-34                  73                  $2.93              $214.00   \n",
       "35-39                  41                  $3.60              $147.67   \n",
       "40+                    13                  $2.94               $38.24   \n",
       "\n",
       "           Avg Total Purchase per Person  \n",
       "Age Ranges                                \n",
       "<10                                $4.54  \n",
       "10-14                              $3.76  \n",
       "15-19                              $3.86  \n",
       "20-24                              $4.32  \n",
       "25-29                              $3.81  \n",
       "30-34                              $4.12  \n",
       "35-39                              $4.76  \n",
       "40+                                $3.19  "
      ]
     },
     "execution_count": 7,
     "metadata": {},
     "output_type": "execute_result"
    }
   ],
   "source": []
  },
  {
   "cell_type": "markdown",
   "metadata": {},
   "source": [
    "## Top Spenders"
   ]
  },
  {
   "cell_type": "markdown",
   "metadata": {},
   "source": [
    "* Run basic calculations to obtain the results in the table below\n",
    "\n",
    "\n",
    "* Create a summary data frame to hold the results\n",
    "\n",
    "\n",
    "* Sort the total purchase value column in descending order\n",
    "\n",
    "\n",
    "* Optional: give the displayed data cleaner formatting\n",
    "\n",
    "\n",
    "* Display a preview of the summary data frame\n",
    "\n"
   ]
  },
  {
   "cell_type": "code",
   "execution_count": 115,
   "metadata": {},
   "outputs": [
    {
     "data": {
      "text/html": [
       "<style  type=\"text/css\" >\n",
       "</style><table id=\"T_55b28c1c_171d_11ea_9de8_aced5cf72258\" ><thead>    <tr>        <th class=\"blank level0\" ></th>        <th class=\"col_heading level0 col0\" >Purchase Count</th>        <th class=\"col_heading level0 col1\" >Average Purchase Price</th>        <th class=\"col_heading level0 col2\" >Total Purchase Value</th>    </tr>    <tr>        <th class=\"index_name level0\" >SN</th>        <th class=\"blank\" ></th>        <th class=\"blank\" ></th>        <th class=\"blank\" ></th>    </tr></thead><tbody>\n",
       "                <tr>\n",
       "                        <th id=\"T_55b28c1c_171d_11ea_9de8_aced5cf72258level0_row0\" class=\"row_heading level0 row0\" >Lisosia93</th>\n",
       "                        <td id=\"T_55b28c1c_171d_11ea_9de8_aced5cf72258row0_col0\" class=\"data row0 col0\" >5</td>\n",
       "                        <td id=\"T_55b28c1c_171d_11ea_9de8_aced5cf72258row0_col1\" class=\"data row0 col1\" >$3.79</td>\n",
       "                        <td id=\"T_55b28c1c_171d_11ea_9de8_aced5cf72258row0_col2\" class=\"data row0 col2\" >$18.96</td>\n",
       "            </tr>\n",
       "            <tr>\n",
       "                        <th id=\"T_55b28c1c_171d_11ea_9de8_aced5cf72258level0_row1\" class=\"row_heading level0 row1\" >Idastidru52</th>\n",
       "                        <td id=\"T_55b28c1c_171d_11ea_9de8_aced5cf72258row1_col0\" class=\"data row1 col0\" >4</td>\n",
       "                        <td id=\"T_55b28c1c_171d_11ea_9de8_aced5cf72258row1_col1\" class=\"data row1 col1\" >$3.86</td>\n",
       "                        <td id=\"T_55b28c1c_171d_11ea_9de8_aced5cf72258row1_col2\" class=\"data row1 col2\" >$15.45</td>\n",
       "            </tr>\n",
       "            <tr>\n",
       "                        <th id=\"T_55b28c1c_171d_11ea_9de8_aced5cf72258level0_row2\" class=\"row_heading level0 row2\" >Chamjask73</th>\n",
       "                        <td id=\"T_55b28c1c_171d_11ea_9de8_aced5cf72258row2_col0\" class=\"data row2 col0\" >3</td>\n",
       "                        <td id=\"T_55b28c1c_171d_11ea_9de8_aced5cf72258row2_col1\" class=\"data row2 col1\" >$4.61</td>\n",
       "                        <td id=\"T_55b28c1c_171d_11ea_9de8_aced5cf72258row2_col2\" class=\"data row2 col2\" >$13.83</td>\n",
       "            </tr>\n",
       "            <tr>\n",
       "                        <th id=\"T_55b28c1c_171d_11ea_9de8_aced5cf72258level0_row3\" class=\"row_heading level0 row3\" >Iral74</th>\n",
       "                        <td id=\"T_55b28c1c_171d_11ea_9de8_aced5cf72258row3_col0\" class=\"data row3 col0\" >4</td>\n",
       "                        <td id=\"T_55b28c1c_171d_11ea_9de8_aced5cf72258row3_col1\" class=\"data row3 col1\" >$3.40</td>\n",
       "                        <td id=\"T_55b28c1c_171d_11ea_9de8_aced5cf72258row3_col2\" class=\"data row3 col2\" >$13.62</td>\n",
       "            </tr>\n",
       "            <tr>\n",
       "                        <th id=\"T_55b28c1c_171d_11ea_9de8_aced5cf72258level0_row4\" class=\"row_heading level0 row4\" >Iskadarya95</th>\n",
       "                        <td id=\"T_55b28c1c_171d_11ea_9de8_aced5cf72258row4_col0\" class=\"data row4 col0\" >3</td>\n",
       "                        <td id=\"T_55b28c1c_171d_11ea_9de8_aced5cf72258row4_col1\" class=\"data row4 col1\" >$4.37</td>\n",
       "                        <td id=\"T_55b28c1c_171d_11ea_9de8_aced5cf72258row4_col2\" class=\"data row4 col2\" >$13.10</td>\n",
       "            </tr>\n",
       "    </tbody></table>"
      ],
      "text/plain": [
       "<pandas.io.formats.style.Styler at 0x1c054a85080>"
      ]
     },
     "execution_count": 115,
     "metadata": {},
     "output_type": "execute_result"
    }
   ],
   "source": [
    "spenders_group = purchase_data_df.groupby('SN')\n",
    "\n",
    "\n",
    "spenders_count = spenders_group['Purchase ID'].count()\n",
    "\n",
    "avg_purchase_price = spenders_group['Price'].mean()\n",
    "\n",
    "total_purchase_value = spenders_group['Price'].sum()\n",
    "\n",
    "top_spenders = pd.DataFrame({\n",
    "    'Purchase Count': spenders_count,\n",
    "    'Average Purchase Price': avg_purchase_price,\n",
    "    'Total Purchase Value': total_purchase_value\n",
    "})\n",
    "\n",
    "top_spenders.index.name = 'SN'\n",
    "top_spenders = top_spenders.sort_values(['Total Purchase Value'], ascending = False)\n",
    "top_spenders.head().style.format({\n",
    "    'Average Purchase Price' : \"${:.2f}\",\n",
    "    'Total Purchase Value': \"${:.2f}\"\n",
    "})"
   ]
  },
  {
   "cell_type": "code",
   "execution_count": null,
   "metadata": {},
   "outputs": [],
   "source": []
  },
  {
   "cell_type": "code",
   "execution_count": 8,
   "metadata": {},
   "outputs": [
    {
     "data": {
      "text/html": [
       "<div>\n",
       "<style scoped>\n",
       "    .dataframe tbody tr th:only-of-type {\n",
       "        vertical-align: middle;\n",
       "    }\n",
       "\n",
       "    .dataframe tbody tr th {\n",
       "        vertical-align: top;\n",
       "    }\n",
       "\n",
       "    .dataframe thead th {\n",
       "        text-align: right;\n",
       "    }\n",
       "</style>\n",
       "<table border=\"1\" class=\"dataframe\">\n",
       "  <thead>\n",
       "    <tr style=\"text-align: right;\">\n",
       "      <th></th>\n",
       "      <th>Purchase Count</th>\n",
       "      <th>Average Purchase Price</th>\n",
       "      <th>Total Purchase Value</th>\n",
       "    </tr>\n",
       "    <tr>\n",
       "      <th>SN</th>\n",
       "      <th></th>\n",
       "      <th></th>\n",
       "      <th></th>\n",
       "    </tr>\n",
       "  </thead>\n",
       "  <tbody>\n",
       "    <tr>\n",
       "      <th>Lisosia93</th>\n",
       "      <td>5</td>\n",
       "      <td>$3.79</td>\n",
       "      <td>$18.96</td>\n",
       "    </tr>\n",
       "    <tr>\n",
       "      <th>Idastidru52</th>\n",
       "      <td>4</td>\n",
       "      <td>$3.86</td>\n",
       "      <td>$15.45</td>\n",
       "    </tr>\n",
       "    <tr>\n",
       "      <th>Chamjask73</th>\n",
       "      <td>3</td>\n",
       "      <td>$4.61</td>\n",
       "      <td>$13.83</td>\n",
       "    </tr>\n",
       "    <tr>\n",
       "      <th>Iral74</th>\n",
       "      <td>4</td>\n",
       "      <td>$3.40</td>\n",
       "      <td>$13.62</td>\n",
       "    </tr>\n",
       "    <tr>\n",
       "      <th>Iskadarya95</th>\n",
       "      <td>3</td>\n",
       "      <td>$4.37</td>\n",
       "      <td>$13.10</td>\n",
       "    </tr>\n",
       "  </tbody>\n",
       "</table>\n",
       "</div>"
      ],
      "text/plain": [
       "             Purchase Count Average Purchase Price Total Purchase Value\n",
       "SN                                                                     \n",
       "Lisosia93                 5                  $3.79               $18.96\n",
       "Idastidru52               4                  $3.86               $15.45\n",
       "Chamjask73                3                  $4.61               $13.83\n",
       "Iral74                    4                  $3.40               $13.62\n",
       "Iskadarya95               3                  $4.37               $13.10"
      ]
     },
     "execution_count": 8,
     "metadata": {},
     "output_type": "execute_result"
    }
   ],
   "source": []
  },
  {
   "cell_type": "markdown",
   "metadata": {},
   "source": [
    "## Most Popular Items"
   ]
  },
  {
   "cell_type": "markdown",
   "metadata": {},
   "source": [
    "* Retrieve the Item ID, Item Name, and Item Price columns\n",
    "\n",
    "\n",
    "* Group by Item ID and Item Name. Perform calculations to obtain purchase count, item price, and total purchase value\n",
    "\n",
    "\n",
    "* Create a summary data frame to hold the results\n",
    "\n",
    "\n",
    "* Sort the purchase count column in descending order\n",
    "\n",
    "\n",
    "* Optional: give the displayed data cleaner formatting\n",
    "\n",
    "\n",
    "* Display a preview of the summary data frame\n",
    "\n"
   ]
  },
  {
   "cell_type": "code",
   "execution_count": 105,
   "metadata": {},
   "outputs": [
    {
     "data": {
      "text/html": [
       "<style  type=\"text/css\" >\n",
       "</style><table id=\"T_e0ad0fae_171a_11ea_8a9c_aced5cf72258\" ><thead>    <tr>        <th class=\"blank\" ></th>        <th class=\"blank level0\" ></th>        <th class=\"col_heading level0 col0\" >Purchase count</th>        <th class=\"col_heading level0 col1\" >Item Price</th>        <th class=\"col_heading level0 col2\" >Total Purchase Value</th>    </tr>    <tr>        <th class=\"index_name level0\" >Item ID</th>        <th class=\"index_name level1\" >Item Name</th>        <th class=\"blank\" ></th>        <th class=\"blank\" ></th>        <th class=\"blank\" ></th>    </tr></thead><tbody>\n",
       "                <tr>\n",
       "                        <th id=\"T_e0ad0fae_171a_11ea_8a9c_aced5cf72258level0_row0\" class=\"row_heading level0 row0\" >178</th>\n",
       "                        <th id=\"T_e0ad0fae_171a_11ea_8a9c_aced5cf72258level1_row0\" class=\"row_heading level1 row0\" >Oathbreaker, Last Hope of the Breaking Storm</th>\n",
       "                        <td id=\"T_e0ad0fae_171a_11ea_8a9c_aced5cf72258row0_col0\" class=\"data row0 col0\" >12</td>\n",
       "                        <td id=\"T_e0ad0fae_171a_11ea_8a9c_aced5cf72258row0_col1\" class=\"data row0 col1\" >$4.23</td>\n",
       "                        <td id=\"T_e0ad0fae_171a_11ea_8a9c_aced5cf72258row0_col2\" class=\"data row0 col2\" >$50.76</td>\n",
       "            </tr>\n",
       "            <tr>\n",
       "                        <th id=\"T_e0ad0fae_171a_11ea_8a9c_aced5cf72258level0_row1\" class=\"row_heading level0 row1\" >145</th>\n",
       "                        <th id=\"T_e0ad0fae_171a_11ea_8a9c_aced5cf72258level1_row1\" class=\"row_heading level1 row1\" >Fiery Glass Crusader</th>\n",
       "                        <td id=\"T_e0ad0fae_171a_11ea_8a9c_aced5cf72258row1_col0\" class=\"data row1 col0\" >9</td>\n",
       "                        <td id=\"T_e0ad0fae_171a_11ea_8a9c_aced5cf72258row1_col1\" class=\"data row1 col1\" >$4.58</td>\n",
       "                        <td id=\"T_e0ad0fae_171a_11ea_8a9c_aced5cf72258row1_col2\" class=\"data row1 col2\" >$41.22</td>\n",
       "            </tr>\n",
       "            <tr>\n",
       "                        <th id=\"T_e0ad0fae_171a_11ea_8a9c_aced5cf72258level0_row2\" class=\"row_heading level0 row2\" >108</th>\n",
       "                        <th id=\"T_e0ad0fae_171a_11ea_8a9c_aced5cf72258level1_row2\" class=\"row_heading level1 row2\" >Extraction, Quickblade Of Trembling Hands</th>\n",
       "                        <td id=\"T_e0ad0fae_171a_11ea_8a9c_aced5cf72258row2_col0\" class=\"data row2 col0\" >9</td>\n",
       "                        <td id=\"T_e0ad0fae_171a_11ea_8a9c_aced5cf72258row2_col1\" class=\"data row2 col1\" >$3.53</td>\n",
       "                        <td id=\"T_e0ad0fae_171a_11ea_8a9c_aced5cf72258row2_col2\" class=\"data row2 col2\" >$31.77</td>\n",
       "            </tr>\n",
       "            <tr>\n",
       "                        <th id=\"T_e0ad0fae_171a_11ea_8a9c_aced5cf72258level0_row3\" class=\"row_heading level0 row3\" >82</th>\n",
       "                        <th id=\"T_e0ad0fae_171a_11ea_8a9c_aced5cf72258level1_row3\" class=\"row_heading level1 row3\" >Nirvana</th>\n",
       "                        <td id=\"T_e0ad0fae_171a_11ea_8a9c_aced5cf72258row3_col0\" class=\"data row3 col0\" >9</td>\n",
       "                        <td id=\"T_e0ad0fae_171a_11ea_8a9c_aced5cf72258row3_col1\" class=\"data row3 col1\" >$4.90</td>\n",
       "                        <td id=\"T_e0ad0fae_171a_11ea_8a9c_aced5cf72258row3_col2\" class=\"data row3 col2\" >$44.10</td>\n",
       "            </tr>\n",
       "            <tr>\n",
       "                        <th id=\"T_e0ad0fae_171a_11ea_8a9c_aced5cf72258level0_row4\" class=\"row_heading level0 row4\" >19</th>\n",
       "                        <th id=\"T_e0ad0fae_171a_11ea_8a9c_aced5cf72258level1_row4\" class=\"row_heading level1 row4\" >Pursuit, Cudgel of Necromancy</th>\n",
       "                        <td id=\"T_e0ad0fae_171a_11ea_8a9c_aced5cf72258row4_col0\" class=\"data row4 col0\" >8</td>\n",
       "                        <td id=\"T_e0ad0fae_171a_11ea_8a9c_aced5cf72258row4_col1\" class=\"data row4 col1\" >$1.02</td>\n",
       "                        <td id=\"T_e0ad0fae_171a_11ea_8a9c_aced5cf72258row4_col2\" class=\"data row4 col2\" >$8.16</td>\n",
       "            </tr>\n",
       "    </tbody></table>"
      ],
      "text/plain": [
       "<pandas.io.formats.style.Styler at 0x1c05485f048>"
      ]
     },
     "execution_count": 105,
     "metadata": {},
     "output_type": "execute_result"
    }
   ],
   "source": [
    "item_df = purchase_data_df[['Item ID','Item Name','Price']]\n",
    "\n",
    "item_group = item_df.groupby(['Item ID','Item Name'])\n",
    "\n",
    "count_items = item_group['Price'].count()\n",
    "\n",
    "total_purchase_value = item_group['Price'].sum()\n",
    "\n",
    "item_price = total_purchase_value / count_items\n",
    "\n",
    "most_popular = pd.DataFrame({\n",
    "    'Purchase count': count_items,\n",
    "    'Item Price': item_price,\n",
    "    'Total Purchase Value': total_purchase_value\n",
    "})\n",
    "\n",
    "most_popular.index.name = 'Items ID'\n",
    "most_popular = most_popular.sort_values(['Purchase count'], ascending = False)\n",
    "\n",
    "most_popular.head().style.format({\n",
    "    'Item Price': \"${:.2f}\",\n",
    "    'Total Purchase Value':\"${:.2f}\"\n",
    "})\n"
   ]
  },
  {
   "cell_type": "code",
   "execution_count": null,
   "metadata": {},
   "outputs": [],
   "source": []
  },
  {
   "cell_type": "code",
   "execution_count": 9,
   "metadata": {},
   "outputs": [
    {
     "data": {
      "text/html": [
       "<div>\n",
       "<style scoped>\n",
       "    .dataframe tbody tr th:only-of-type {\n",
       "        vertical-align: middle;\n",
       "    }\n",
       "\n",
       "    .dataframe tbody tr th {\n",
       "        vertical-align: top;\n",
       "    }\n",
       "\n",
       "    .dataframe thead th {\n",
       "        text-align: right;\n",
       "    }\n",
       "</style>\n",
       "<table border=\"1\" class=\"dataframe\">\n",
       "  <thead>\n",
       "    <tr style=\"text-align: right;\">\n",
       "      <th></th>\n",
       "      <th></th>\n",
       "      <th>Purchase Count</th>\n",
       "      <th>Item Price</th>\n",
       "      <th>Total Purchase Value</th>\n",
       "    </tr>\n",
       "    <tr>\n",
       "      <th>Item ID</th>\n",
       "      <th>Item Name</th>\n",
       "      <th></th>\n",
       "      <th></th>\n",
       "      <th></th>\n",
       "    </tr>\n",
       "  </thead>\n",
       "  <tbody>\n",
       "    <tr>\n",
       "      <th>178</th>\n",
       "      <th>Oathbreaker, Last Hope of the Breaking Storm</th>\n",
       "      <td>12</td>\n",
       "      <td>$4.23</td>\n",
       "      <td>$50.76</td>\n",
       "    </tr>\n",
       "    <tr>\n",
       "      <th>145</th>\n",
       "      <th>Fiery Glass Crusader</th>\n",
       "      <td>9</td>\n",
       "      <td>$4.58</td>\n",
       "      <td>$41.22</td>\n",
       "    </tr>\n",
       "    <tr>\n",
       "      <th>108</th>\n",
       "      <th>Extraction, Quickblade Of Trembling Hands</th>\n",
       "      <td>9</td>\n",
       "      <td>$3.53</td>\n",
       "      <td>$31.77</td>\n",
       "    </tr>\n",
       "    <tr>\n",
       "      <th>82</th>\n",
       "      <th>Nirvana</th>\n",
       "      <td>9</td>\n",
       "      <td>$4.90</td>\n",
       "      <td>$44.10</td>\n",
       "    </tr>\n",
       "    <tr>\n",
       "      <th>19</th>\n",
       "      <th>Pursuit, Cudgel of Necromancy</th>\n",
       "      <td>8</td>\n",
       "      <td>$1.02</td>\n",
       "      <td>$8.16</td>\n",
       "    </tr>\n",
       "  </tbody>\n",
       "</table>\n",
       "</div>"
      ],
      "text/plain": [
       "                                                     Purchase Count  \\\n",
       "Item ID Item Name                                                     \n",
       "178     Oathbreaker, Last Hope of the Breaking Storm             12   \n",
       "145     Fiery Glass Crusader                                      9   \n",
       "108     Extraction, Quickblade Of Trembling Hands                 9   \n",
       "82      Nirvana                                                   9   \n",
       "19      Pursuit, Cudgel of Necromancy                             8   \n",
       "\n",
       "                                                     Item Price  \\\n",
       "Item ID Item Name                                                 \n",
       "178     Oathbreaker, Last Hope of the Breaking Storm      $4.23   \n",
       "145     Fiery Glass Crusader                              $4.58   \n",
       "108     Extraction, Quickblade Of Trembling Hands         $3.53   \n",
       "82      Nirvana                                           $4.90   \n",
       "19      Pursuit, Cudgel of Necromancy                     $1.02   \n",
       "\n",
       "                                                     Total Purchase Value  \n",
       "Item ID Item Name                                                          \n",
       "178     Oathbreaker, Last Hope of the Breaking Storm               $50.76  \n",
       "145     Fiery Glass Crusader                                       $41.22  \n",
       "108     Extraction, Quickblade Of Trembling Hands                  $31.77  \n",
       "82      Nirvana                                                    $44.10  \n",
       "19      Pursuit, Cudgel of Necromancy                               $8.16  "
      ]
     },
     "execution_count": 9,
     "metadata": {},
     "output_type": "execute_result"
    }
   ],
   "source": []
  },
  {
   "cell_type": "markdown",
   "metadata": {},
   "source": [
    "## Most Profitable Items"
   ]
  },
  {
   "cell_type": "markdown",
   "metadata": {},
   "source": [
    "* Sort the above table by total purchase value in descending order\n",
    "\n",
    "\n",
    "* Optional: give the displayed data cleaner formatting\n",
    "\n",
    "\n",
    "* Display a preview of the data frame\n",
    "\n"
   ]
  },
  {
   "cell_type": "code",
   "execution_count": 106,
   "metadata": {},
   "outputs": [
    {
     "data": {
      "text/html": [
       "<style  type=\"text/css\" >\n",
       "</style><table id=\"T_eb5d2ff6_171a_11ea_b10c_aced5cf72258\" ><thead>    <tr>        <th class=\"blank\" ></th>        <th class=\"blank level0\" ></th>        <th class=\"col_heading level0 col0\" >Purchase count</th>        <th class=\"col_heading level0 col1\" >Item Price</th>        <th class=\"col_heading level0 col2\" >Total Purchase Value</th>    </tr>    <tr>        <th class=\"index_name level0\" >Item ID</th>        <th class=\"index_name level1\" >Item Name</th>        <th class=\"blank\" ></th>        <th class=\"blank\" ></th>        <th class=\"blank\" ></th>    </tr></thead><tbody>\n",
       "                <tr>\n",
       "                        <th id=\"T_eb5d2ff6_171a_11ea_b10c_aced5cf72258level0_row0\" class=\"row_heading level0 row0\" >178</th>\n",
       "                        <th id=\"T_eb5d2ff6_171a_11ea_b10c_aced5cf72258level1_row0\" class=\"row_heading level1 row0\" >Oathbreaker, Last Hope of the Breaking Storm</th>\n",
       "                        <td id=\"T_eb5d2ff6_171a_11ea_b10c_aced5cf72258row0_col0\" class=\"data row0 col0\" >12</td>\n",
       "                        <td id=\"T_eb5d2ff6_171a_11ea_b10c_aced5cf72258row0_col1\" class=\"data row0 col1\" >$4.23</td>\n",
       "                        <td id=\"T_eb5d2ff6_171a_11ea_b10c_aced5cf72258row0_col2\" class=\"data row0 col2\" >50.76</td>\n",
       "            </tr>\n",
       "            <tr>\n",
       "                        <th id=\"T_eb5d2ff6_171a_11ea_b10c_aced5cf72258level0_row1\" class=\"row_heading level0 row1\" >82</th>\n",
       "                        <th id=\"T_eb5d2ff6_171a_11ea_b10c_aced5cf72258level1_row1\" class=\"row_heading level1 row1\" >Nirvana</th>\n",
       "                        <td id=\"T_eb5d2ff6_171a_11ea_b10c_aced5cf72258row1_col0\" class=\"data row1 col0\" >9</td>\n",
       "                        <td id=\"T_eb5d2ff6_171a_11ea_b10c_aced5cf72258row1_col1\" class=\"data row1 col1\" >$4.90</td>\n",
       "                        <td id=\"T_eb5d2ff6_171a_11ea_b10c_aced5cf72258row1_col2\" class=\"data row1 col2\" >44.1</td>\n",
       "            </tr>\n",
       "            <tr>\n",
       "                        <th id=\"T_eb5d2ff6_171a_11ea_b10c_aced5cf72258level0_row2\" class=\"row_heading level0 row2\" >145</th>\n",
       "                        <th id=\"T_eb5d2ff6_171a_11ea_b10c_aced5cf72258level1_row2\" class=\"row_heading level1 row2\" >Fiery Glass Crusader</th>\n",
       "                        <td id=\"T_eb5d2ff6_171a_11ea_b10c_aced5cf72258row2_col0\" class=\"data row2 col0\" >9</td>\n",
       "                        <td id=\"T_eb5d2ff6_171a_11ea_b10c_aced5cf72258row2_col1\" class=\"data row2 col1\" >$4.58</td>\n",
       "                        <td id=\"T_eb5d2ff6_171a_11ea_b10c_aced5cf72258row2_col2\" class=\"data row2 col2\" >41.22</td>\n",
       "            </tr>\n",
       "            <tr>\n",
       "                        <th id=\"T_eb5d2ff6_171a_11ea_b10c_aced5cf72258level0_row3\" class=\"row_heading level0 row3\" >92</th>\n",
       "                        <th id=\"T_eb5d2ff6_171a_11ea_b10c_aced5cf72258level1_row3\" class=\"row_heading level1 row3\" >Final Critic</th>\n",
       "                        <td id=\"T_eb5d2ff6_171a_11ea_b10c_aced5cf72258row3_col0\" class=\"data row3 col0\" >8</td>\n",
       "                        <td id=\"T_eb5d2ff6_171a_11ea_b10c_aced5cf72258row3_col1\" class=\"data row3 col1\" >$4.88</td>\n",
       "                        <td id=\"T_eb5d2ff6_171a_11ea_b10c_aced5cf72258row3_col2\" class=\"data row3 col2\" >39.04</td>\n",
       "            </tr>\n",
       "            <tr>\n",
       "                        <th id=\"T_eb5d2ff6_171a_11ea_b10c_aced5cf72258level0_row4\" class=\"row_heading level0 row4\" >103</th>\n",
       "                        <th id=\"T_eb5d2ff6_171a_11ea_b10c_aced5cf72258level1_row4\" class=\"row_heading level1 row4\" >Singed Scalpel</th>\n",
       "                        <td id=\"T_eb5d2ff6_171a_11ea_b10c_aced5cf72258row4_col0\" class=\"data row4 col0\" >8</td>\n",
       "                        <td id=\"T_eb5d2ff6_171a_11ea_b10c_aced5cf72258row4_col1\" class=\"data row4 col1\" >$4.35</td>\n",
       "                        <td id=\"T_eb5d2ff6_171a_11ea_b10c_aced5cf72258row4_col2\" class=\"data row4 col2\" >34.8</td>\n",
       "            </tr>\n",
       "    </tbody></table>"
      ],
      "text/plain": [
       "<pandas.io.formats.style.Styler at 0x1c05485c080>"
      ]
     },
     "execution_count": 106,
     "metadata": {},
     "output_type": "execute_result"
    }
   ],
   "source": [
    "profitable_items = most_popular.sort_values(['Total Purchase Value'], ascending = False )\n",
    "\n",
    "profitable_items.head().style.format({\n",
    "    'Item Price':\"${:.2f}\",\n",
    "    'Total Purchase Values': \"${:.2f}\"\n",
    "})"
   ]
  },
  {
   "cell_type": "code",
   "execution_count": null,
   "metadata": {},
   "outputs": [],
   "source": []
  },
  {
   "cell_type": "code",
   "execution_count": 10,
   "metadata": {
    "scrolled": true
   },
   "outputs": [
    {
     "data": {
      "text/html": [
       "<div>\n",
       "<style scoped>\n",
       "    .dataframe tbody tr th:only-of-type {\n",
       "        vertical-align: middle;\n",
       "    }\n",
       "\n",
       "    .dataframe tbody tr th {\n",
       "        vertical-align: top;\n",
       "    }\n",
       "\n",
       "    .dataframe thead th {\n",
       "        text-align: right;\n",
       "    }\n",
       "</style>\n",
       "<table border=\"1\" class=\"dataframe\">\n",
       "  <thead>\n",
       "    <tr style=\"text-align: right;\">\n",
       "      <th></th>\n",
       "      <th></th>\n",
       "      <th>Purchase Count</th>\n",
       "      <th>Item Price</th>\n",
       "      <th>Total Purchase Value</th>\n",
       "    </tr>\n",
       "    <tr>\n",
       "      <th>Item ID</th>\n",
       "      <th>Item Name</th>\n",
       "      <th></th>\n",
       "      <th></th>\n",
       "      <th></th>\n",
       "    </tr>\n",
       "  </thead>\n",
       "  <tbody>\n",
       "    <tr>\n",
       "      <th>178</th>\n",
       "      <th>Oathbreaker, Last Hope of the Breaking Storm</th>\n",
       "      <td>12</td>\n",
       "      <td>$4.23</td>\n",
       "      <td>$50.76</td>\n",
       "    </tr>\n",
       "    <tr>\n",
       "      <th>82</th>\n",
       "      <th>Nirvana</th>\n",
       "      <td>9</td>\n",
       "      <td>$4.90</td>\n",
       "      <td>$44.10</td>\n",
       "    </tr>\n",
       "    <tr>\n",
       "      <th>145</th>\n",
       "      <th>Fiery Glass Crusader</th>\n",
       "      <td>9</td>\n",
       "      <td>$4.58</td>\n",
       "      <td>$41.22</td>\n",
       "    </tr>\n",
       "    <tr>\n",
       "      <th>92</th>\n",
       "      <th>Final Critic</th>\n",
       "      <td>8</td>\n",
       "      <td>$4.88</td>\n",
       "      <td>$39.04</td>\n",
       "    </tr>\n",
       "    <tr>\n",
       "      <th>103</th>\n",
       "      <th>Singed Scalpel</th>\n",
       "      <td>8</td>\n",
       "      <td>$4.35</td>\n",
       "      <td>$34.80</td>\n",
       "    </tr>\n",
       "  </tbody>\n",
       "</table>\n",
       "</div>"
      ],
      "text/plain": [
       "                                                     Purchase Count  \\\n",
       "Item ID Item Name                                                     \n",
       "178     Oathbreaker, Last Hope of the Breaking Storm             12   \n",
       "82      Nirvana                                                   9   \n",
       "145     Fiery Glass Crusader                                      9   \n",
       "92      Final Critic                                              8   \n",
       "103     Singed Scalpel                                            8   \n",
       "\n",
       "                                                     Item Price  \\\n",
       "Item ID Item Name                                                 \n",
       "178     Oathbreaker, Last Hope of the Breaking Storm      $4.23   \n",
       "82      Nirvana                                           $4.90   \n",
       "145     Fiery Glass Crusader                              $4.58   \n",
       "92      Final Critic                                      $4.88   \n",
       "103     Singed Scalpel                                    $4.35   \n",
       "\n",
       "                                                     Total Purchase Value  \n",
       "Item ID Item Name                                                          \n",
       "178     Oathbreaker, Last Hope of the Breaking Storm               $50.76  \n",
       "82      Nirvana                                                    $44.10  \n",
       "145     Fiery Glass Crusader                                       $41.22  \n",
       "92      Final Critic                                               $39.04  \n",
       "103     Singed Scalpel                                             $34.80  "
      ]
     },
     "execution_count": 10,
     "metadata": {},
     "output_type": "execute_result"
    }
   ],
   "source": []
  }
 ],
 "metadata": {
  "anaconda-cloud": {},
  "kernel_info": {
   "name": "python3"
  },
  "kernelspec": {
   "display_name": "Python 3",
   "language": "python",
   "name": "python3"
  },
  "language_info": {
   "codemirror_mode": {
    "name": "ipython",
    "version": 3
   },
   "file_extension": ".py",
   "mimetype": "text/x-python",
   "name": "python",
   "nbconvert_exporter": "python",
   "pygments_lexer": "ipython3",
   "version": "3.7.3"
  },
  "latex_envs": {
   "LaTeX_envs_menu_present": true,
   "autoclose": false,
   "autocomplete": true,
   "bibliofile": "biblio.bib",
   "cite_by": "apalike",
   "current_citInitial": 1,
   "eqLabelWithNumbers": true,
   "eqNumInitial": 1,
   "hotkeys": {
    "equation": "Ctrl-E",
    "itemize": "Ctrl-I"
   },
   "labels_anchors": false,
   "latex_user_defs": false,
   "report_style_numbering": false,
   "user_envs_cfg": false
  },
  "nteract": {
   "version": "0.2.0"
  }
 },
 "nbformat": 4,
 "nbformat_minor": 4
}
